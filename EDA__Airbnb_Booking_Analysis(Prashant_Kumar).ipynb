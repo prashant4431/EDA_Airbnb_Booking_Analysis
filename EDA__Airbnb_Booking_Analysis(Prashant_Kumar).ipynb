{
  "nbformat": 4,
  "nbformat_minor": 0,
  "metadata": {
    "colab": {
      "private_outputs": true,
      "provenance": [],
      "collapsed_sections": [
        "vncDsAP0Gaoa",
        "FJNUwmbgGyua",
        "w6K7xa23Elo4",
        "yQaldy8SH6Dl",
        "PH-0ReGfmX4f",
        "mDgbUHAGgjLW",
        "O_i_v8NEhb9l",
        "HhfV-JJviCcP",
        "Y3lxredqlCYt",
        "3RnN4peoiCZX",
        "x71ZqKXriCWQ",
        "7hBIi_osiCS2",
        "JlHwYmJAmNHm",
        "35m5QtbWiB9F",
        "PoPl-ycgm1ru",
        "H0kj-8xxnORC",
        "nA9Y7ga8ng1Z",
        "PBTbrJXOngz2",
        "u3PMJOP6ngxN",
        "dauF4eBmngu3",
        "bKJF3rekwFvQ",
        "MSa1f5Uengrz",
        "GF8Ens_Soomf",
        "0wOQAZs5pc--",
        "K5QZ13OEpz2H",
        "lQ7QKXXCp7Bj",
        "448CDAPjqfQr",
        "KSlN3yHqYklG",
        "t6dVpIINYklI",
        "ijmpgYnKYklI",
        "-JiQyfWJYklI",
        "EM7whBJCYoAo",
        "fge-S5ZAYoAp",
        "85gYPyotYoAp",
        "RoGjAbkUYoAp",
        "4Of9eVA-YrdM",
        "iky9q4vBYrdO",
        "F6T5p64dYrdO",
        "y-Ehk30pYrdP",
        "bamQiAODYuh1",
        "QHF8YVU7Yuh3",
        "GwzvFGzlYuh3",
        "qYpmQ266Yuh3",
        "OH-pJp9IphqM",
        "bbFf2-_FphqN",
        "_ouA3fa0phqN",
        "Seke61FWphqN",
        "PIIx-8_IphqN",
        "t27r6nlMphqO",
        "r2jJGEOYphqO",
        "b0JNsNcRphqO",
        "BZR9WyysphqO",
        "jj7wYXLtphqO",
        "eZrbJ2SmphqO",
        "rFu4xreNphqO",
        "YJ55k-q6phqO",
        "gCFgpxoyphqP",
        "OVtJsKN_phqQ",
        "lssrdh5qphqQ",
        "U2RJ9gkRphqQ",
        "1M8mcRywphqQ",
        "tgIPom80phqQ",
        "JMzcOPDDphqR",
        "x-EpHcCOp1ci",
        "X_VqEhTip1ck",
        "8zGJKyg5p1ck",
        "PVzmfK_Ep1ck",
        "n3dbpmDWp1ck",
        "ylSl6qgtp1ck",
        "ZWILFDl5p1ck",
        "M7G43BXep1ck",
        "Ag9LCva-p1cl",
        "E6MkPsBcp1cl",
        "2cELzS2fp1cl",
        "3MPXvC8up1cl",
        "NC_X3p0fY2L0",
        "UV0SzAkaZNRQ",
        "YPEH6qLeZNRQ",
        "q29F0dvdveiT",
        "EXh0U9oCveiU",
        "22aHeOlLveiV",
        "JcMwzZxoAimU",
        "8G2x9gOozGDZ",
        "gCX9965dhzqZ",
        "gIfDvo9L0UH2"
      ]
    },
    "kernelspec": {
      "name": "python3",
      "display_name": "Python 3"
    },
    "language_info": {
      "name": "python"
    }
  },
  "cells": [
    {
      "cell_type": "markdown",
      "source": [
        " **Airbnb Booking Analysis :-**\n",
        "\n",
        "\n"
      ],
      "metadata": {
        "id": "vncDsAP0Gaoa"
      }
    },
    {
      "cell_type": "markdown",
      "source": [
        " **Project Type**    - EDA\n"
      ],
      "metadata": {
        "id": "beRrZCGUAJYm"
      }
    },
    {
      "cell_type": "markdown",
      "source": [
        "**Contribution -** Individual"
      ],
      "metadata": {
        "id": "NnPJ6gy_MvmI"
      }
    },
    {
      "cell_type": "markdown",
      "source": [
        " **Project Summary -**"
      ],
      "metadata": {
        "id": "FJNUwmbgGyua"
      }
    },
    {
      "cell_type": "markdown",
      "source": [
        "Airbnb is an online marketplace that connects people who want to rent out their homes with people looking for accommodations in that locale. NYC is the most populous city in the United States, and one of the most popular tourism and business places globally.\n",
        "\n",
        "\n",
        "\n",
        "\n",
        "\n",
        "\n",
        "\n",
        "Since 2008, guests and hosts have used Airbnb to expand on traveling possibilities and present a more unique, personalized way of experiencing the world.It provides various rental options for different customer segments. Based on customer budget, they can either opt for an entire house or just a room or even better share a room. Today, Airbnb became one of a kind service that is used and recognized by the whole world. Data analysis on millions of listings provided through Airbnb is a crucial factor for the company. These millions of listings generate a lot of data - data that can be analyzed and used for security, business decisions, understanding of customers and providers behavior and performance on the platform, guiding marketing initiatives, implementation of innovative additional services and much more.\n",
        "\n",
        "This dataset has around 49,000 observations in it with 16 columns and it is a mix between categorical and numeric values."
      ],
      "metadata": {
        "id": "F6v_1wHtG2nS"
      }
    },
    {
      "cell_type": "markdown",
      "source": [
        "**GitHub Link -**"
      ],
      "metadata": {
        "id": "w6K7xa23Elo4"
      }
    },
    {
      "cell_type": "markdown",
      "source": [
        "https://github.com/prashant4431/EDA_Airbnb_Booking_Analysis"
      ],
      "metadata": {
        "id": "h1o69JH3Eqqn"
      }
    },
    {
      "cell_type": "markdown",
      "source": [
        " **Problem Statement**\n"
      ],
      "metadata": {
        "id": "yQaldy8SH6Dl"
      }
    },
    {
      "cell_type": "markdown",
      "source": [
        "\n",
        " In this project I have analysed Airbnb’s New York City(NYC) data of 2019. NYC\n",
        "is not only the most famous city in the world but also top global destination for\n",
        "visitors drawn to its museums, entertainment, restaurants and commerce.\n",
        "\n",
        " Our main objective is to find out the key metrics that influence the listing of\n",
        "properties on the platform. For this, we will explore and visualize the dataset\n",
        "from Airbnb in NYC using basic exploratory data analysis (EDA) techniques.\n",
        "\n",
        "We will be finding out the distribution of every Airbnb listing based on their\n",
        "location, including their price range, room type, listing name, and other"
      ],
      "metadata": {
        "id": "DpeJGUA3kjGy"
      }
    },
    {
      "cell_type": "markdown",
      "source": [
        " **Business Objective**"
      ],
      "metadata": {
        "id": "PH-0ReGfmX4f"
      }
    },
    {
      "cell_type": "markdown",
      "source": [
        "To connect travellers with hosts who provide accommodation through Airbnb platform which provides a variety of options to choose from, utlimately leading to customer satisfaction and making it the most reliable  booking platform."
      ],
      "metadata": {
        "id": "PhDvGCAqmjP1"
      }
    },
    {
      "cell_type": "markdown",
      "source": [
        "**Importing Libraries**"
      ],
      "metadata": {
        "id": "wQuqU6A35ciN"
      }
    },
    {
      "cell_type": "code",
      "source": [
        "import pandas as pd\n",
        "import numpy as np\n",
        "import matplotlib.pyplot as plt\n",
        "import seaborn as sns\n",
        "%matplotlib inline"
      ],
      "metadata": {
        "id": "M8Vqi-pPk-HR"
      },
      "execution_count": null,
      "outputs": []
    },
    {
      "cell_type": "markdown",
      "source": [
        "***Mounting Drive***"
      ],
      "metadata": {
        "id": "bl5lJhmS4-vN"
      }
    },
    {
      "cell_type": "code",
      "source": [
        "from google.colab import drive\n",
        "drive.mount('/content/drive')"
      ],
      "metadata": {
        "id": "i3P2aAv65qFo"
      },
      "execution_count": null,
      "outputs": []
    },
    {
      "cell_type": "markdown",
      "source": [
        "**Reading DataSet**"
      ],
      "metadata": {
        "id": "A2aAMzDC8YXk"
      }
    },
    {
      "cell_type": "code",
      "source": [
        "airbnb_path = \"/content/drive/MyDrive/Almabetter/EDA_Airbnb_Booking_Analysis/dat11/Airbnb NYC 2019.csv\"\n",
        "df = pd.read_csv(airbnb_path)\n"
      ],
      "metadata": {
        "id": "4CkvbW_SlZ_R"
      },
      "execution_count": null,
      "outputs": []
    },
    {
      "cell_type": "markdown",
      "source": [
        " Dataset First View"
      ],
      "metadata": {
        "id": "x71ZqKXriCWQ"
      }
    },
    {
      "cell_type": "code",
      "source": [
        "df\n"
      ],
      "metadata": {
        "id": "LWNFOSvLl09H"
      },
      "execution_count": null,
      "outputs": []
    },
    {
      "cell_type": "markdown",
      "source": [
        "**Description of the Columns/Variables:-**\n",
        "\n",
        "**id** - Unique ID\n",
        "\n",
        "**name** - Name of the listing\n",
        "\n",
        "**host_id** - Unique host_id\n",
        "\n",
        "**host_name** - Name of the host\n",
        "\n",
        "**neighbourhood_group** - location\n",
        "\n",
        "**neighborhood** - area\n",
        "\n",
        "**latitude** - Latitude range\n",
        "\n",
        "**longitude** - Longitude range\n",
        "\n",
        "**room_type** - Type of listing\n",
        "\n",
        "**price** - Price of listing\n",
        "\n",
        "**minimum_nights** - Minimum nights to be paid for\n",
        "\n",
        "**Number_of reviews** - Number of reviews\n",
        "\n",
        "**last_review** - Content of the last review\n",
        "\n",
        "**reviews_per_month** - Number of checks per month\n",
        "\n",
        "**calculated _host_listing_count** - Total count\n",
        "\n",
        "**availability_365** - Availability around the year\n",
        "\n"
      ],
      "metadata": {
        "id": "We4kLDy8PxAG"
      }
    },
    {
      "cell_type": "code",
      "source": [
        "#Lets check the shape\n",
        "df.shape"
      ],
      "metadata": {
        "id": "Kllu7SJgmLij"
      },
      "execution_count": null,
      "outputs": []
    },
    {
      "cell_type": "markdown",
      "source": [
        " **Dataset Information**"
      ],
      "metadata": {
        "id": "JlHwYmJAmNHm"
      }
    },
    {
      "cell_type": "code",
      "source": [
        "#Checking variables\n",
        "df.columns"
      ],
      "metadata": {
        "id": "VYOGoMhW2Uux"
      },
      "execution_count": null,
      "outputs": []
    },
    {
      "cell_type": "code",
      "source": [
        "#Lets Rename Some Columns to have better information about variables\n",
        "rename_col = {'id':'listing_id','name':'listed_name','number_of_reviews':'total_reviews','calculated_host_listings_count':'host_listings_count'}\n",
        "df = df.rename(columns = rename_col)\n",
        "df.head(1)"
      ],
      "metadata": {
        "id": "__GAQxXW20IH"
      },
      "execution_count": null,
      "outputs": []
    },
    {
      "cell_type": "code",
      "source": [
        "df.info()"
      ],
      "metadata": {
        "id": "e9hRXRi6meOf"
      },
      "execution_count": null,
      "outputs": []
    },
    {
      "cell_type": "markdown",
      "source": [
        "Categorical variables - host_name, neighbourhood_group, neighbourhood and room_type\n",
        "\n",
        "Numerical variables - host_id, latitude, longitude, price, minimum_nights, number_of_reviews, last_review, reviews_per_month, host_listings_count, availability_365"
      ],
      "metadata": {
        "id": "kj55PkEc38PI"
      }
    },
    {
      "cell_type": "code",
      "source": [
        "# Checking Duplicates\n",
        "df = df.drop_duplicates()\n",
        "df.count()"
      ],
      "metadata": {
        "id": "p9L9NgESCpcS"
      },
      "execution_count": null,
      "outputs": []
    },
    {
      "cell_type": "markdown",
      "source": [
        "So, there are no duplicates."
      ],
      "metadata": {
        "id": "49vS8K9dC3NS"
      }
    },
    {
      "cell_type": "markdown",
      "source": [
        " **Missing Values/Null Values**"
      ],
      "metadata": {
        "id": "PoPl-ycgm1ru"
      }
    },
    {
      "cell_type": "code",
      "source": [
        "df.isnull().sum()"
      ],
      "metadata": {
        "id": "GgHWkxvamxVg"
      },
      "execution_count": null,
      "outputs": []
    },
    {
      "cell_type": "code",
      "source": [
        "#Let's remove the null values of listed_name and host_id\n",
        "df['listed_name'].fillna('not_mentioned',inplace=True)\n",
        "df['host_name'].fillna('unknown',inplace=True)"
      ],
      "metadata": {
        "id": "TTqnixVyCKMQ"
      },
      "execution_count": null,
      "outputs": []
    },
    {
      "cell_type": "code",
      "source": [
        "# Check if the values removes?\n",
        "df[['listed_name','host_name']].isnull().sum()"
      ],
      "metadata": {
        "id": "aUNlVTTyDyEQ"
      },
      "execution_count": null,
      "outputs": []
    },
    {
      "cell_type": "markdown",
      "source": [
        "****"
      ],
      "metadata": {
        "id": "qXrY1BYb7ASd"
      }
    },
    {
      "cell_type": "code",
      "source": [
        "#Let's remove the last_review column as it is of least importance.\n",
        "df = df.drop(['last_review'], axis=1)"
      ],
      "metadata": {
        "id": "c95ep0TsAb-R"
      },
      "execution_count": null,
      "outputs": []
    },
    {
      "cell_type": "code",
      "source": [
        "# Let's replace the NAN values of reviews_per_month with 0\n",
        "df['reviews_per_month'] = df['reviews_per_month'].replace(to_replace=np.nan,value=0).astype('int64')"
      ],
      "metadata": {
        "id": "yuHKmWVHFLE_"
      },
      "execution_count": null,
      "outputs": []
    },
    {
      "cell_type": "code",
      "source": [
        "df['reviews_per_month'].isnull().sum()"
      ],
      "metadata": {
        "id": "Ir4xEFgvFl2R"
      },
      "execution_count": null,
      "outputs": []
    },
    {
      "cell_type": "code",
      "source": [
        "#Let's have the dataframe information now\n",
        "df.info()"
      ],
      "metadata": {
        "id": "MpR7gec9xnnl"
      },
      "execution_count": null,
      "outputs": []
    },
    {
      "cell_type": "markdown",
      "source": [
        "**Let's check for some unique values of variables.**"
      ],
      "metadata": {
        "id": "6WKnw_5AGei3"
      }
    },
    {
      "cell_type": "code",
      "source": [
        "#listing/property Ids\n",
        "df['listing_id'].nunique()"
      ],
      "metadata": {
        "id": "iT47B_fWG5WH"
      },
      "execution_count": null,
      "outputs": []
    },
    {
      "cell_type": "code",
      "source": [
        "# neighborhood\n",
        "df['neighbourhood'].nunique()\n"
      ],
      "metadata": {
        "id": "qayBfqB3HGAP"
      },
      "execution_count": null,
      "outputs": []
    },
    {
      "cell_type": "code",
      "source": [
        "#neighborhood_group\n",
        "df['neighbourhood_group'].nunique()"
      ],
      "metadata": {
        "id": "JrbXlwepHaY3"
      },
      "execution_count": null,
      "outputs": []
    },
    {
      "cell_type": "code",
      "source": [
        "#hosts\n",
        "df['host_name'].nunique()"
      ],
      "metadata": {
        "id": "CU0lHVThHrgo"
      },
      "execution_count": null,
      "outputs": []
    },
    {
      "cell_type": "markdown",
      "source": [
        "**Describing the DataFrame**"
      ],
      "metadata": {
        "id": "680EgaByI1Wl"
      }
    },
    {
      "cell_type": "code",
      "source": [
        "df.describe()"
      ],
      "metadata": {
        "id": "DnOaZdaE5Q5t"
      },
      "execution_count": null,
      "outputs": []
    },
    {
      "cell_type": "code",
      "source": [
        "#Let's see the mean price of room types.\n",
        "df.groupby(['room_type'])['price'].mean()"
      ],
      "metadata": {
        "id": "29N0o4JEzMky"
      },
      "execution_count": null,
      "outputs": []
    },
    {
      "cell_type": "markdown",
      "source": [
        "**Let's Visualize the data :**"
      ],
      "metadata": {
        "id": "SBUPdRT1qSR9"
      }
    },
    {
      "cell_type": "markdown",
      "source": [
        "**Total Listing/Property count in Each Neighborhood Group**"
      ],
      "metadata": {
        "id": "7ffMIkDEDbT5"
      }
    },
    {
      "cell_type": "code",
      "source": [
        "\n",
        "counts = df['neighbourhood_group'].value_counts()\n",
        "\n",
        "plt.figure(figsize=(9, 5))\n",
        "plt.bar(counts.index, counts.values)\n",
        "plt.title('Neighbourhood_group Listing Counts in NYC', fontsize=10)\n",
        "plt.xlabel('Neighbourhood_Group', fontsize=10)\n",
        "plt.ylabel('total listings counts', fontsize=10)\n",
        "plt.show()"
      ],
      "metadata": {
        "id": "ED4OBwrE30S2"
      },
      "execution_count": null,
      "outputs": []
    },
    {
      "cell_type": "markdown",
      "source": [
        "\n",
        "Manhattan and Brooklyn have the highest number of listings on Airbnb.\n",
        "\n",
        "\n",
        "\n",
        "Staten Island has the fewest number of listings.\n",
        "\n",
        "The distribution of listings across the different neighborhood groups is skewed, with a concentration of listings in Manhattan and Brooklyn.\n",
        "\n",
        "The demand for Airbnb rentals is higher in Manhattan compared to the other neighborhoods.\n",
        "\n"
      ],
      "metadata": {
        "id": "QFUzE3BP6Wj9"
      }
    },
    {
      "cell_type": "markdown",
      "source": [
        "**Top Neighborhoods by Listing/property using Bar plot**"
      ],
      "metadata": {
        "id": "KSlN3yHqYklG"
      }
    },
    {
      "cell_type": "code",
      "source": [
        " #create a new DataFrame that displays the top 10 neighborhoods in the Airbnb NYC dataset based on the number of listings in each neighborhood\n",
        "Top_Neighborhoods = df['neighbourhood'].value_counts()[:10].reset_index()\n",
        "\n",
        "# rename the columns of the resulting DataFrame to 'Top_Neighborhoods' and 'Listing_Counts'\n",
        "Top_Neighborhoods.columns = ['Top_Neighborhoods', 'Listing_Counts']\n",
        "\n",
        "# display the resulting DataFrame\n",
        "Top_Neighborhoods"
      ],
      "metadata": {
        "id": "R4YgtaqtYklH"
      },
      "execution_count": null,
      "outputs": []
    },
    {
      "cell_type": "code",
      "source": [
        "# Get the top 10 neighborhoods by listing count\n",
        "top_10_neigbourhoods = df['neighbourhood'].value_counts().nlargest(10)\n",
        "\n",
        "# Create a list of colors to use for the bars\n",
        "colors = ['Violet', 'Indigo', 'Blue', 'Green', 'Yellow', 'Orange', 'Red', '#B4F0B4', 'Cyan', 'olive']\n",
        "\n",
        "# Create a bar plot of the top 10 neighborhoods using the specified colors\n",
        "top_10_neigbourhoods.plot(kind='bar', figsize=(15, 6), color = colors)\n",
        "\n",
        "# Set the x-axis label\n",
        "plt.xlabel('Neighbourhood', fontsize=14)\n",
        "\n",
        "# Set the y-axis label\n",
        "plt.ylabel('Total Listing Counts', fontsize=14)\n",
        "\n",
        "# Set the title of the plot\n",
        "plt.title('Listings by Top Neighborhoods in NYC', fontsize=15)"
      ],
      "metadata": {
        "id": "HVeboKevBORN"
      },
      "execution_count": null,
      "outputs": []
    },
    {
      "cell_type": "markdown",
      "source": [
        "\n",
        "The top neighborhoods in New York City in terms of listing counts are Williamsburg, Bedford-Stuyvesant, Harlem, Bushwick, and the Upper West Side.\n",
        "\n",
        "The top neighborhoods are primarily located in Brooklyn and Manhattan. This may be due to the fact that  have a higher overall population and a higher demand for housing."
      ],
      "metadata": {
        "id": "l5_PUcNTDMJT"
      }
    },
    {
      "cell_type": "markdown",
      "source": [
        "**Total Counts Of Each Room Type.**"
      ],
      "metadata": {
        "id": "lXNEwEQkEHLI"
      }
    },
    {
      "cell_type": "code",
      "source": [
        "# create a new DataFrame that displays the number of listings of each room type in the Airbnb NYC dataset\n",
        "top_room_type = df['room_type'].value_counts().reset_index()\n",
        "\n",
        "# rename the columns of the resulting DataFrame to 'Room_Type' and 'Total_counts'\n",
        "top_room_type.columns = ['Room_Type', 'Total_counts']\n",
        "\n",
        "# display the resulting DataFrame\n",
        "top_room_type\n",
        "\n"
      ],
      "metadata": {
        "id": "4jiLMhh6EM0r"
      },
      "execution_count": null,
      "outputs": []
    },
    {
      "cell_type": "code",
      "source": [
        "# Set the figure size\n",
        "plt.figure(figsize=(10, 6))\n",
        "\n",
        "# Get the room type counts\n",
        "room_type_counts = df['room_type'].value_counts()\n",
        "\n",
        "# Set the labels and sizes for the pie chart\n",
        "labels = room_type_counts.index\n",
        "sizes = room_type_counts.values\n",
        "\n",
        "# Create the pie chart\n",
        "plt.pie(sizes, labels=labels, autopct='%1.1f%%')\n",
        "\n",
        "# Add a legend to the chart\n",
        "plt.legend(title='Room Type', bbox_to_anchor=(0.8, 0, 0.5, 1), fontsize='12')\n",
        "\n",
        "# Show the plot\n",
        "plt.show()"
      ],
      "metadata": {
        "id": "h8u9UXP5E7_i"
      },
      "execution_count": null,
      "outputs": []
    },
    {
      "cell_type": "markdown",
      "source": [
        " Here the Entire Home/Apt counts 52.0% of the entire room types which is almost 21% of the shared room numbers. Also Private Room's share is 45.7%\n",
        "\n",
        "The data suggests that travelers using Airbnb prefer accommodation options of Entire Home/Apt or Private room over the Shared room."
      ],
      "metadata": {
        "id": "XO4ZAy0vFNiS"
      }
    },
    {
      "cell_type": "markdown",
      "source": [
        "**Now we will look into availability variation throughout neighbourhoods, room standards.**"
      ],
      "metadata": {
        "id": "NTtJmiLaGfjR"
      }
    },
    {
      "cell_type": "code",
      "source": [
        "fig, axes = plt.subplots(nrows=1, ncols=3, figsize=(24, 8))\n",
        "ax = axes.flatten()\n",
        "\n",
        "sns.lineplot(data=df, x='neighbourhood_group', y='availability_365', hue='room_type', ax=ax[0])\n",
        "ax[0].set_title('Room Availability throughout Neighbourhood/Room Type')\n",
        "sns.scatterplot(data=df[df['price'] < 500], x=\"availability_365\", y='price', hue='room_type', alpha=.9, palette=\"muted\", ax=ax[1])\n",
        "ax[1].set_title('Price vs Availability (Range $ 0 - 500)')\n",
        "\n",
        "sns.countplot(data=df[df['availability_365']  == 365], x='neighbourhood_group', hue='room_type', palette='GnBu_d', ax=ax[2])\n",
        "ax[2].set_title('Property Available 365 days')\n",
        "sns.despine(fig)"
      ],
      "metadata": {
        "id": "PcOlNy8CMNC5"
      },
      "execution_count": null,
      "outputs": []
    },
    {
      "cell_type": "markdown",
      "source": [
        "From the above two graphs, Staten Island has most busiest Shared Room as well as Most available Private Room. Brroklyn and Manhattan has quite similar availabilities.\n",
        "\n",
        "On the other hand, from Price vs Availability graph, we can notice that there is a wide price range of private rooms and the entire home room types.\n",
        "\n",
        "And from the Count vs Neighbourhood group graph we can see that Manhattan has the most numbers of rooms available followed by Brooklyn."
      ],
      "metadata": {
        "id": "aLKTeKjqo9F5"
      }
    },
    {
      "cell_type": "markdown",
      "source": [
        "**Stay Requirement counts by Minimum Nights using Bar chart**"
      ],
      "metadata": {
        "id": "Loh82uejMqzv"
      }
    },
    {
      "cell_type": "code",
      "source": [
        "# Group the DataFrame by the minimum_nights column and count the number of rows in each group\n",
        "min_nights_count = df.groupby('minimum_nights').size().reset_index(name = 'count')\n",
        "\n",
        "# Sort the resulting DataFrame in descending order by the count column\n",
        "min_nights_count = min_nights_count.sort_values('count', ascending=False)\n",
        "\n",
        "# Select the top 10 rows\n",
        "min_nights_count = min_nights_count.head(15)\n",
        "\n",
        "# Reset the index\n",
        "min_nights_count = min_nights_count.reset_index(drop=True)\n",
        "\n",
        "# Display the resulting DataFrame\n",
        "min_nights_count"
      ],
      "metadata": {
        "id": "8aK0Hx-yMsMp"
      },
      "execution_count": null,
      "outputs": []
    },
    {
      "cell_type": "code",
      "source": [
        "# Extract the minimum_nights and count columns from the DataFrame\n",
        "minimum_nights = min_nights_count['minimum_nights']\n",
        "count = min_nights_count['count']\n",
        "\n",
        "# Set the figure size\n",
        "plt.figure(figsize=(12, 4))\n",
        "\n",
        "# Create the bar plot\n",
        "plt.bar(minimum_nights, count)\n",
        "\n",
        "# Add axis labels and a title\n",
        "plt.xlabel('Minimum Nights', fontsize='14')\n",
        "plt.ylabel('Count', fontsize='14')\n",
        "plt.title('Stay Requirement by Minimum Nights', fontsize='15')\n",
        "\n",
        "# Show the plot\n",
        "plt.show()"
      ],
      "metadata": {
        "id": "4LuNl7DsM3Zh"
      },
      "execution_count": null,
      "outputs": []
    },
    {
      "cell_type": "markdown",
      "source": [
        "The majority of listings on Airbnb have a minimum stay requirement of 1 or 2 nights, with 12720 and 11696 listings, respectively.\n",
        "\n",
        "The number of listings with a minimum stay requirement decreases as  the stay increases, with 7999 listings of 3 nights.\n",
        "\n",
        "There are relatively few listings with a minimum stay of 30 nights with 3760 listings ."
      ],
      "metadata": {
        "id": "j9zt8sLKpk2v"
      }
    },
    {
      "cell_type": "markdown",
      "source": [
        "**Average Minimum Price In Neighborhoods**"
      ],
      "metadata": {
        "id": "peddIWq8qLDq"
      }
    },
    {
      "cell_type": "code",
      "source": [
        "# create a new DataFrame that displays the average price of Airbnb rentals in each neighborhood\n",
        "neighbourhood_avg_price = df.groupby(\"neighbourhood\")[\"price\"].mean().reset_index().rename(columns={\"price\": \"avg_price\"})\n",
        "\n",
        "\n",
        "# select the top 10 neighborhoods with the lowest average prices\n",
        "neighbourhood_avg_price = neighbourhood_avg_price.sort_values(\"avg_price\").head(15)\n",
        "\n",
        "# join the resulting DataFrame with the 'neighbourhood_group' column from the Airbnb NYC dataset, dropping any duplicate entries\n",
        "neighbourhood_avg_price_sorted_with_group = neighbourhood_avg_price.join(df[['neighbourhood', 'neighbourhood_group']].drop_duplicates().set_index('neighbourhood'),\n",
        "                                                                         on='neighbourhood')\n",
        "\n",
        "# Display the resulting data\n",
        "display(neighbourhood_avg_price_sorted_with_group.style.hide_index())"
      ],
      "metadata": {
        "id": "5IYkCSM4stJo"
      },
      "execution_count": null,
      "outputs": []
    },
    {
      "cell_type": "code",
      "source": [
        "# Group the data by neighborhood and calculate the average price\n",
        "neighbourhood_avg_price = df.groupby(\"neighbourhood\")[\"price\"].mean()\n",
        "\n",
        "# Create a new DataFrame with the average price for each neighborhood\n",
        "neighbourhood_prices = pd.DataFrame({\"neighbourhood\": neighbourhood_avg_price.index, \"avg_price\": neighbourhood_avg_price.values})\n",
        "\n",
        "# Merge the average price data with the original DataFrame\n",
        "df_merged = df.merge(neighbourhood_prices, on=\"neighbourhood\")\n",
        "\n",
        "# Convert 'avg_price' column to numeric\n",
        "df_merged['avg_price'] = pd.to_numeric(df_merged['avg_price'])\n",
        "\n",
        "# Create the scattermapbox plot\n",
        "fig = plt.figure(figsize=(12, 6))\n",
        "ax = fig.add_subplot(1, 1, 1)\n",
        "scatter = ax.scatter(df_merged[\"longitude\"], df_merged[\"latitude\"], c=df_merged[\"avg_price\"], cmap=\"inferno\")\n",
        "ax.set_title(\"Average Airbnb Price by Neighborhoods in New York City\")\n",
        "ax.set_xlabel(\"Longitude\")\n",
        "ax.set_ylabel(\"Latitude\")\n",
        "fig.colorbar(scatter, label=\"Average Price\")\n",
        "plt.show()"
      ],
      "metadata": {
        "id": "by5GC85PwnuZ"
      },
      "execution_count": null,
      "outputs": []
    },
    {
      "cell_type": "code",
      "source": [
        "# Extract the values from the dataset\n",
        "neighborhoods = neighbourhood_avg_price_sorted_with_group['neighbourhood']\n",
        "prices = neighbourhood_avg_price_sorted_with_group['avg_price']\n",
        "\n",
        "# Create the bar plot\n",
        "plt.figure(figsize=(15,5))\n",
        "plt.bar(neighborhoods, prices,width=0.5, color = 'lightsalmon')\n",
        "plt.xlabel('Neighborhood')\n",
        "plt.ylabel('Average Price')\n",
        "plt.title('Average Price by Neighborhood')\n",
        "\n",
        "# Show the plot\n",
        "plt.show()"
      ],
      "metadata": {
        "id": "iFUuEcaj72Jk"
      },
      "execution_count": null,
      "outputs": []
    },
    {
      "cell_type": "markdown",
      "source": [
        "\n",
        "\n",
        "Most of these neighborhoods are located in the Bronx and Staten Island. These have a lower overall cost of living compared to Manhattan and Brooklyn.\n",
        "\n",
        "These neighborhoods may be attractive to renters or buyers looking for more affordable housing options in the New York City area."
      ],
      "metadata": {
        "id": "RVVfzDpT8iC5"
      }
    },
    {
      "cell_type": "markdown",
      "source": [
        "**Number of Max. Reviews by Each Neighborhood Group**"
      ],
      "metadata": {
        "id": "-Ap_PI8GFqPy"
      }
    },
    {
      "cell_type": "code",
      "source": [
        "# Group the Airbnb data by neighbourhood group\n",
        "reviews_by_neighbourhood_group = df.groupby(\"neighbourhood_group\")[\"total_reviews\"].max()\n",
        "\n",
        "# Create a pie chart to visualize the distribution of maximum number of reviews among different neighbourhood groups\n",
        "plt.pie(reviews_by_neighbourhood_group, labels=reviews_by_neighbourhood_group.index, autopct='%1.1f%%')\n",
        "\n",
        "# Add a title to the chart\n",
        "plt.title(\"Number of maximum Reviews by Neighborhood Group in NYC\", fontsize='15')\n",
        "\n",
        "# Display the chart\n",
        "plt.show()"
      ],
      "metadata": {
        "id": "YauyPFW_FrgS"
      },
      "execution_count": null,
      "outputs": []
    },
    {
      "cell_type": "markdown",
      "source": [
        "Queens and Manhattan seems to be the most popular ones on the basis of review with 26.5% and 25.5%.\n",
        "\n",
        "Brooklyn also have a high percentage of reviews, i.e 20.5%. This indicates that it is a popular destination for tourists or visitors as well.\n"
      ],
      "metadata": {
        "id": "O15Y-CB4F7rB"
      }
    },
    {
      "cell_type": "markdown",
      "source": [
        "**Correlation Heatmap Visualization**"
      ],
      "metadata": {
        "id": "8234zPv-GCdy"
      }
    },
    {
      "cell_type": "code",
      "source": [
        "# Select the columns of interest\n",
        "columns_of_interest = ['listing_id','host_id','latitude','longitude','price','minimum_nights','total_reviews','reviews_per_month','host_listings_count','availability_365']\n",
        "\n",
        "\n",
        "# Create a new DataFrame with only the columns of interest\n",
        "df_selected = df[columns_of_interest]\n",
        "\n",
        "# Calculate the correlation matrix\n",
        "corr = df_selected.corr()\n",
        "\n",
        "# Display the correlation between columns\n",
        "corr\n",
        "\n",
        "\n",
        "\n",
        "\n",
        "\n",
        "\n",
        "\n"
      ],
      "metadata": {
        "id": "5jX4H-Q1GNYh"
      },
      "execution_count": null,
      "outputs": []
    },
    {
      "cell_type": "code",
      "source": [
        "# Set the figure size\n",
        "plt.figure(figsize=(10,5))\n",
        "\n",
        "# Visualize correlations as a heatmap\n",
        "sns.heatmap(corr, cmap='crest',annot=True)\n",
        "\n",
        "# Display heatmap\n",
        "plt.show()\n"
      ],
      "metadata": {
        "id": "51zeJdmNHeEr"
      },
      "execution_count": null,
      "outputs": []
    },
    {
      "cell_type": "markdown",
      "source": [
        "There is a moderate positive correlation (0.59) between the **host_id** and **listing_id** columns, which suggests that hosts with more listings are more likely to have unique host IDs.\n",
        "\n",
        "There is a weak positive correlation (0.057) between the **price** column and the **host_listings_count** column, which suggests that hosts with more listings tend to charge higher prices for their listings.\n",
        "\n",
        "There is a moderate positive correlation (0.23) between the **host_listings_count** column and the **availability_365** column, which suggests that hosts with more listings tend to have more days of availability in the next 365 days.\n",
        "\n",
        "There is a strong positive correlation (0.56) between the **total_reviews** column and the **reviews_per_month** column, which suggests that listings with more total reviews tend to have more reviews per month.\n",
        "\n"
      ],
      "metadata": {
        "id": "RIslVGAKIUqj"
      }
    },
    {
      "cell_type": "markdown",
      "source": [
        "**Solution to Business Objective :**"
      ],
      "metadata": {
        "id": "JcMwzZxoAimU"
      }
    },
    {
      "cell_type": "markdown",
      "source": [
        "Manhattan and Brooklyn have the highest demand for Airbnb rentals, as evidenced by the large number of listings in these neighborhoods. This could make them attractive areas for hosts to invest in property.\n",
        "\n",
        "Brooklyn comes in second with significant number of listings and cheaper prices as compared to the Manhattan: With most listings located in Williamsburg and Bedford-Stuyvesant.\n",
        "\n",
        "Williamsburg, Bedford-Stuyvesant, Harlem, Bushwick, and the Upper West Side are the top neighborhoods in terms of listing counts, indicating strong demand for Airbnb rentals in these areas.\n",
        "\n",
        "The average price of a listing in New York City is higher in the center of the city (Manhattan) compared to the outer boroughs. This could indicate that investing in property in Manhattan may be more lucrative for Airbnb rentals.\n",
        "\n",
        " Manhattan and Brooklyn have the largest number of hosts, indicating a high level of competition in these boroughs.\n",
        "\n",
        "The data suggests that Airbnb rentals are primarily used for short-term stays, with relatively few listings requiring a minimum stay of 30 nights or more. Hosts may want to consider investing in property that can accommodate shorter stays in order to maximize their occupancy rate.\n",
        "\n",
        "The majority of listings on Airbnb are for entire homes or apartments and also Private Rooms with relatively fewer listings for shared rooms. This suggests that travelers using Airbnb have a wide range of accommodation options to choose from, and hosts may want to consider investing in property that can accommodate multiple guests.\n",
        "\n",
        "The data indicates that the availability of Airbnb rentals varies significantly across neighborhoods, with some neighborhoods having a high concentration of listings and others having relatively few.\n",
        "\n",
        "The data indicates that there is a high level of competition among Airbnb hosts, with a small number of hosts dominating a large portion of the market. Hosts may want to consider investing in property in areas with relatively fewer listings in order to differentiate themselves from the competition.\n",
        "\n",
        "Queens has the highest percentage of reviews , but it has the third highest number of listings, behind Manhattan and Brooklyn. This suggests that Queens may be a popular destination for tourists or visitors, even though it has fewer listings compared to Manhattan and Brooklyn."
      ],
      "metadata": {
        "id": "BshoBUuoL74S"
      }
    },
    {
      "cell_type": "markdown",
      "metadata": {
        "id": "gypsx6GvLaPq"
      },
      "source": [
        "---\n",
        "\n",
        "# **Thank You !**\n",
        "\n",
        "\n"
      ]
    }
  ]
}